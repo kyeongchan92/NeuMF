{
 "cells": [
  {
   "cell_type": "code",
   "execution_count": 1,
   "metadata": {},
   "outputs": [],
   "source": [
    "from typing import Dict\n",
    "import argparse\n",
    "\n",
    "parser = argparse.ArgumentParser(description='NeuMF')\n",
    "\n",
    "parser.add_argument('--ratings_path', required=False, default='data/ml-1m/ratings.dat')\n",
    "parser.add_argument('--emb_dim', required=False, default=64)\n",
    "parser.add_argument('--neg_ratio', required=False, default=3)\n",
    "parser.add_argument('--prep_data_dir', required=False, default='prep_data')\n",
    "parser.add_argument('--prep_data_name', required=False, default='prep_data.pkl')\n",
    "parser.add_argument('--test_ratio', required=False, default=0.1)\n",
    "parser.add_argument('--batch_size', required=False, default=128)\n",
    "parser.add_argument('--lr', required=False, default=0.01)\n",
    "parser.add_argument('--n_epoch', required=False, default=30)\n",
    "parser.add_argument('--train_test_split_rs', required=False, default=1234)\n",
    "parser.add_argument('--topk', required=False, default=25)\n",
    "\n",
    "\n",
    "\n",
    "def update_dataset_args(args, new_args:Dict):\n",
    "    for new_arg, new_value in new_args.items():\n",
    "        print(new_arg, new_value)\n",
    "        args.new_arg = new_value\n",
    "        for k, v in vars(args).items():\n",
    "            print(f\"{k:>20} : {v:<}\")\n",
    "    return args\n",
    "\n",
    "args = parser.parse_args([])"
   ]
  },
  {
   "cell_type": "code",
   "execution_count": 2,
   "metadata": {},
   "outputs": [],
   "source": [
    "from torch.utils.data import Dataset, DataLoader, random_split\n",
    "\n",
    "# from arguments import args\n",
    "from dataset.prepdataset import ML1mDataset\n",
    "from dataset.customdataset import CustomTrainDataset, CustomTestDataset\n",
    "from model import NeuMF\n",
    "from trainer import Trainer"
   ]
  },
  {
   "cell_type": "code",
   "execution_count": 3,
   "metadata": {},
   "outputs": [
    {
     "name": "stdout",
     "output_type": "stream",
     "text": [
      "Already exist preprocessed data=============================\n",
      "prep_data_path : prep_data/prep_data.pkl\n",
      "============================================================\n",
      "CustomTrainDataset Init=====================================\n",
      "============================================================\n",
      "CustomTestDataset Init======================================\n",
      "# of test users : 5959\n",
      "============================================================\n",
      "        ratings_path : data/ml-1m/ratings.dat\n",
      "             emb_dim : 64\n",
      "           neg_ratio : 3\n",
      "       prep_data_dir : prep_data\n",
      "      prep_data_name : prep_data.pkl\n",
      "          test_ratio : 0.1\n",
      "          batch_size : 128\n",
      "                  lr : 0.01\n",
      "             n_epoch : 30\n",
      " train_test_split_rs : 1234\n",
      "                topk : 25\n",
      "              n_user : 6040\n",
      "              n_item : 3706\n"
     ]
    }
   ],
   "source": [
    "ml1m_dataset = ML1mDataset(args)\n",
    "ml1m_dataset.preprocess()\n",
    "train_dataset = CustomTrainDataset(args, ml1m_dataset)\n",
    "test_dataset = CustomTestDataset(args, ml1m_dataset)\n",
    "for k, v in vars(args).items():\n",
    "    print(f\"{k:>20} : {v:<}\")\n",
    "\n",
    "train_dataloader = DataLoader(train_dataset, batch_size=args.batch_size, shuffle=True)\n",
    "test_dataloader = DataLoader(test_dataset, batch_size=args.batch_size, shuffle=False)\n",
    "\n",
    "model = NeuMF(args)"
   ]
  },
  {
   "cell_type": "code",
   "execution_count": 4,
   "metadata": {},
   "outputs": [],
   "source": [
    "# torch.save(model.state_dict(), 'result/neumf.pth')"
   ]
  },
  {
   "cell_type": "code",
   "execution_count": 5,
   "metadata": {},
   "outputs": [
    {
     "data": {
      "text/plain": [
       "NeuMF(\n",
       "  (GMF_user): Embedding(6040, 64)\n",
       "  (GMF_item): Embedding(3706, 64)\n",
       "  (MLP_user): Embedding(6040, 64)\n",
       "  (MLP_item): Embedding(3706, 64)\n",
       "  (MLP_linear): Sequential(\n",
       "    (0): Linear(in_features=128, out_features=32, bias=True)\n",
       "    (1): ReLU()\n",
       "    (2): Linear(in_features=32, out_features=16, bias=True)\n",
       "    (3): ReLU()\n",
       "    (4): Linear(in_features=16, out_features=8, bias=True)\n",
       "  )\n",
       "  (output_layer): Linear(in_features=72, out_features=1, bias=True)\n",
       "  (sigmoid): Sigmoid()\n",
       ")"
      ]
     },
     "execution_count": 5,
     "metadata": {},
     "output_type": "execute_result"
    }
   ],
   "source": [
    "import torch\n",
    "model_path = 'result/neumf.pth'\n",
    "model.load_state_dict(torch.load(model_path))\n",
    "model.eval()"
   ]
  },
  {
   "cell_type": "code",
   "execution_count": null,
   "metadata": {},
   "outputs": [
    {
     "data": {
      "application/json": {
       "ascii": false,
       "bar_format": null,
       "colour": null,
       "elapsed": 0.016812801361083984,
       "initial": 0,
       "n": 0,
       "ncols": null,
       "nrows": null,
       "postfix": null,
       "prefix": "",
       "rate": null,
       "total": 782,
       "unit": "it",
       "unit_divisor": 1000,
       "unit_scale": false
      },
      "application/vnd.jupyter.widget-view+json": {
       "model_id": "b1767a6732d44c27a1258a2c3716728e",
       "version_major": 2,
       "version_minor": 0
      },
      "text/plain": [
       "  0%|          | 0/782 [00:00<?, ?it/s]"
      ]
     },
     "metadata": {},
     "output_type": "display_data"
    },
    {
     "name": "stdout",
     "output_type": "stream",
     "text": [
      "acc : 0.5160\n"
     ]
    }
   ],
   "source": [
    "from tqdm.auto import tqdm\n",
    "model.eval()\n",
    "correct, total = 0, 0\n",
    "with torch.no_grad():\n",
    "    for user, item, label in tqdm(test_dataloader):\n",
    "        logits = model(user, item)\n",
    "        label = label.type(torch.FloatTensor)\n",
    "\n",
    "        correct += torch.sum((logits.flatten()>=0.5) == label).item()\n",
    "        total += len(label)\n",
    "print(f\"acc : {correct/total:.4f}\")"
   ]
  },
  {
   "cell_type": "code",
   "execution_count": 12,
   "metadata": {},
   "outputs": [
    {
     "data": {
      "text/plain": [
       "3706"
      ]
     },
     "execution_count": 12,
     "metadata": {},
     "output_type": "execute_result"
    }
   ],
   "source": [
    "len(one_test_user)"
   ]
  },
  {
   "cell_type": "code",
   "execution_count": 44,
   "metadata": {},
   "outputs": [
    {
     "data": {
      "application/json": {
       "ascii": false,
       "bar_format": null,
       "colour": null,
       "elapsed": 0.016791105270385742,
       "initial": 0,
       "n": 0,
       "ncols": null,
       "nrows": null,
       "postfix": null,
       "prefix": "",
       "rate": null,
       "total": 5959,
       "unit": "it",
       "unit_divisor": 1000,
       "unit_scale": false
      },
      "application/vnd.jupyter.widget-view+json": {
       "model_id": "f4aa3a693c51432493a4ffe7f2d22ed4",
       "version_major": 2,
       "version_minor": 0
      },
      "text/plain": [
       "  0%|          | 0/5959 [00:00<?, ?it/s]"
      ]
     },
     "metadata": {},
     "output_type": "display_data"
    }
   ],
   "source": [
    "test = ml1m_dataset.load_prep_data()['test']\n",
    "from tqdm.auto import tqdm\n",
    "model.eval()\n",
    "\n",
    "actual_set_collect, pred_collect = [], []\n",
    "with torch.no_grad():\n",
    "    for user in list(test.keys()):\n",
    "        one_test_user = [user] * args.n_item\n",
    "        one_test_user = torch.LongTensor(one_test_user)\n",
    "        test_items = list(range(args.n_item))\n",
    "        test_items = torch.LongTensor(test_items)\n",
    "        logits = model(one_test_user, test_items)\n",
    "        pred = logits.flatten().numpy().argsort()[::-1][:args.topk]\n",
    "\n",
    "        actual_set_collect.append(test[user])\n",
    "        pred_collect.append(pred)\n"
   ]
  },
  {
   "cell_type": "code",
   "execution_count": 45,
   "metadata": {},
   "outputs": [],
   "source": [
    "ndcg = NDCG(args.topk)"
   ]
  },
  {
   "cell_type": "code",
   "execution_count": 46,
   "metadata": {},
   "outputs": [],
   "source": [
    "ndcg.cal_ndcg_batch(actual_set_collect, pred_collect)"
   ]
  },
  {
   "cell_type": "code",
   "execution_count": 47,
   "metadata": {},
   "outputs": [
    {
     "data": {
      "text/plain": [
       "0.05879074843104349"
      ]
     },
     "execution_count": 47,
     "metadata": {},
     "output_type": "execute_result"
    }
   ],
   "source": [
    "ndcg.avg_ndcg"
   ]
  },
  {
   "cell_type": "code",
   "execution_count": 48,
   "metadata": {},
   "outputs": [
    {
     "data": {
      "text/plain": [
       "5959"
      ]
     },
     "execution_count": 48,
     "metadata": {},
     "output_type": "execute_result"
    }
   ],
   "source": [
    "ndcg.n_sample"
   ]
  },
  {
   "cell_type": "code",
   "execution_count": 41,
   "metadata": {},
   "outputs": [],
   "source": [
    "import numpy as np\n",
    "class NDCG:\n",
    "    def __init__(self, topk):\n",
    "        self.topk = topk\n",
    "        self.ndcg = []\n",
    "        self.n_sample = 0\n",
    "        self.avg_ndcg = 0\n",
    "\n",
    "    def cal_ndcg_batch(self, actual_set, pred):\n",
    "        assert len(actual_set) == len(pred)\n",
    "\n",
    "        for i in range(len(actual_set)):\n",
    "            ndcg = self.cal_ndcg_one_sample(actual_set[i], pred[i])\n",
    "            self.ndcg.append(ndcg)\n",
    "            self.n_sample += 1\n",
    "\n",
    "        self.avg_ndcg = sum(self.ndcg) / self.n_sample\n",
    "\n",
    "    def cal_ndcg_one_sample(self, actual_set, pred):\n",
    "        # idcg\n",
    "        cal_num = min(self.topk, len(actual_set))\n",
    "        idcg = sum([1.0 / np.log2(i + 1) for i in range(1, cal_num+1)])\n",
    "\n",
    "        # dcg\n",
    "        dcg = 0\n",
    "        for i, item in enumerate(pred, start=1):\n",
    "            if item in actual_set:\n",
    "                dcg += 1.0 / np.log2(i + 1)\n",
    "        # ndcg\n",
    "        ndcg = dcg / idcg\n",
    "        return ndcg"
   ]
  },
  {
   "cell_type": "code",
   "execution_count": 51,
   "metadata": {},
   "outputs": [
    {
     "data": {
      "text/plain": [
       "tensor([0.9968])"
      ]
     },
     "execution_count": 51,
     "metadata": {},
     "output_type": "execute_result"
    }
   ],
   "source": [
    "logits[2426]"
   ]
  },
  {
   "cell_type": "code",
   "execution_count": 37,
   "metadata": {},
   "outputs": [
    {
     "data": {
      "text/plain": [
       "array([2651, 1120, 2426, 3566, 1848,  466, 1106,  575,  346, 1466, 2203,\n",
       "        579, 1173,   20,  106, 1788, 2708, 1774, 1167,  576, 1271,  737,\n",
       "       1123, 1155, 2374])"
      ]
     },
     "execution_count": 37,
     "metadata": {},
     "output_type": "execute_result"
    }
   ],
   "source": [
    "pred = logits.flatten().numpy().argsort()[::-1][:args.topk]\n",
    "pred"
   ]
  },
  {
   "cell_type": "code",
   "execution_count": 38,
   "metadata": {},
   "outputs": [
    {
     "data": {
      "text/plain": [
       "array([ 970, 2557,  639, 1154])"
      ]
     },
     "execution_count": 38,
     "metadata": {},
     "output_type": "execute_result"
    }
   ],
   "source": [
    "test[user]"
   ]
  },
  {
   "cell_type": "code",
   "execution_count": 39,
   "metadata": {},
   "outputs": [],
   "source": [
    "ndcg = NDCG(args.topk)"
   ]
  },
  {
   "cell_type": "code",
   "execution_count": 40,
   "metadata": {},
   "outputs": [
    {
     "data": {
      "text/plain": [
       "0.0"
      ]
     },
     "execution_count": 40,
     "metadata": {},
     "output_type": "execute_result"
    }
   ],
   "source": [
    "ndcg.cal_ndcg_one_sample(test[user], pred)"
   ]
  },
  {
   "cell_type": "code",
   "execution_count": 52,
   "metadata": {},
   "outputs": [],
   "source": [
    "import time"
   ]
  },
  {
   "cell_type": "code",
   "execution_count": 53,
   "metadata": {},
   "outputs": [
    {
     "data": {
      "text/plain": [
       "1671980951.611618"
      ]
     },
     "execution_count": 53,
     "metadata": {},
     "output_type": "execute_result"
    }
   ],
   "source": [
    "time.time()"
   ]
  },
  {
   "cell_type": "code",
   "execution_count": null,
   "metadata": {},
   "outputs": [],
   "source": []
  },
  {
   "cell_type": "code",
   "execution_count": null,
   "metadata": {},
   "outputs": [
    {
     "name": "stdout",
     "output_type": "stream",
     "text": [
      "idcg : 1.6309, dcg : 1.0616, ndcg : 0.6509\n"
     ]
    }
   ],
   "source": [
    "# ndcg\n",
    "ndcg_k = dcg / idcg\n",
    "print(f\"idcg : {idcg:.4f}, dcg : {dcg:.4f}, ndcg : {ndcg_k:.4f}\")"
   ]
  },
  {
   "cell_type": "code",
   "execution_count": 8,
   "metadata": {},
   "outputs": [
    {
     "data": {
      "text/plain": [
       "<torch.utils.data.dataloader.DataLoader at 0x10e696100>"
      ]
     },
     "execution_count": 8,
     "metadata": {},
     "output_type": "execute_result"
    }
   ],
   "source": [
    "test_dataloader"
   ]
  },
  {
   "cell_type": "code",
   "execution_count": 7,
   "metadata": {},
   "outputs": [],
   "source": [
    "for user in test_dataloader:\n",
    "    break"
   ]
  },
  {
   "cell_type": "code",
   "execution_count": 8,
   "metadata": {},
   "outputs": [
    {
     "data": {
      "text/plain": [
       "tensor([  0,   1,   2,   3,   4,   5,   6,   7,   8,   9,  10,  11,  12,  13,\n",
       "         14,  15,  16,  17,  18,  19,  20,  21,  22,  23,  24,  25,  26,  27,\n",
       "         28,  29,  30,  31,  32,  33,  34,  35,  36,  37,  38,  39,  40,  41,\n",
       "         42,  43,  44,  45,  46,  47,  48,  49,  50,  51,  52,  53,  54,  55,\n",
       "         56,  57,  58,  59,  60,  61,  62,  63,  64,  65,  66,  67,  68,  69,\n",
       "         70,  71,  72,  73,  74,  75,  76,  77,  78,  79,  80,  81,  82,  83,\n",
       "         84,  85,  86,  87,  88,  89,  90,  91,  92,  93,  94,  95,  96,  97,\n",
       "         98,  99, 100, 101, 102, 103, 104, 105, 106, 107, 108, 109, 110, 111,\n",
       "        112, 113, 114, 115, 116, 117, 118, 119, 120, 121, 122, 123, 124, 125,\n",
       "        126, 128])"
      ]
     },
     "execution_count": 8,
     "metadata": {},
     "output_type": "execute_result"
    }
   ],
   "source": [
    "user"
   ]
  },
  {
   "cell_type": "code",
   "execution_count": null,
   "metadata": {},
   "outputs": [],
   "source": [
    "u = test_users[0]"
   ]
  },
  {
   "cell_type": "code",
   "execution_count": null,
   "metadata": {},
   "outputs": [],
   "source": [
    "prep_data = ml1m_dataset.load_prep_data()"
   ]
  },
  {
   "cell_type": "code",
   "execution_count": null,
   "metadata": {},
   "outputs": [
    {
     "data": {
      "text/plain": [
       "dict_keys(['train', 'test', 'update_args'])"
      ]
     },
     "execution_count": 28,
     "metadata": {},
     "output_type": "execute_result"
    }
   ],
   "source": [
    "prep_data.keys()"
   ]
  },
  {
   "cell_type": "code",
   "execution_count": null,
   "metadata": {},
   "outputs": [],
   "source": []
  },
  {
   "cell_type": "code",
   "execution_count": null,
   "metadata": {},
   "outputs": [
    {
     "ename": "TypeError",
     "evalue": "unsupported operand type(s) for /: 'int' and 'builtin_function_or_method'",
     "output_type": "error",
     "traceback": [
      "\u001b[0;31m---------------------------------------------------------------------------\u001b[0m",
      "\u001b[0;31mTypeError\u001b[0m                                 Traceback (most recent call last)",
      "\u001b[1;32m/Users/kyeongchanlee/Library/CloudStorage/GoogleDrive-nahcklee@gmail.com/내 드라이브/015GithubRepos/NeuMF/NeuMF/test.ipynb 셀 35\u001b[0m in \u001b[0;36m<cell line: 1>\u001b[0;34m()\u001b[0m\n\u001b[0;32m----> <a href='vscode-notebook-cell:/Users/kyeongchanlee/Library/CloudStorage/GoogleDrive-nahcklee%40gmail.com/%EB%82%B4%20%EB%93%9C%EB%9D%BC%EC%9D%B4%EB%B8%8C/015GithubRepos/NeuMF/NeuMF/test.ipynb#X15sZmlsZQ%3D%3D?line=0'>1</a>\u001b[0m torch\u001b[39m.\u001b[39;49msum((logits\u001b[39m.\u001b[39;49mflatten()\u001b[39m>\u001b[39;49m\u001b[39m=\u001b[39;49m\u001b[39m0.5\u001b[39;49m) \u001b[39m==\u001b[39;49m label)\u001b[39m.\u001b[39;49mitem() \u001b[39m/\u001b[39;49m \u001b[39mlen\u001b[39;49m\n",
      "\u001b[0;31mTypeError\u001b[0m: unsupported operand type(s) for /: 'int' and 'builtin_function_or_method'"
     ]
    }
   ],
   "source": [
    "torch.sum((logits.flatten()>=0.5) == label).item() / len"
   ]
  },
  {
   "cell_type": "code",
   "execution_count": null,
   "metadata": {},
   "outputs": [
    {
     "data": {
      "text/plain": [
       "tensor(0.7841, grad_fn=<BinaryCrossEntropyBackward0>)"
      ]
     },
     "execution_count": 215,
     "metadata": {},
     "output_type": "execute_result"
    }
   ],
   "source": []
  },
  {
   "cell_type": "code",
   "execution_count": null,
   "metadata": {},
   "outputs": [],
   "source": []
  },
  {
   "cell_type": "code",
   "execution_count": null,
   "metadata": {},
   "outputs": [],
   "source": []
  },
  {
   "attachments": {},
   "cell_type": "markdown",
   "metadata": {},
   "source": [
    "# nDCG"
   ]
  },
  {
   "cell_type": "code",
   "execution_count": null,
   "metadata": {},
   "outputs": [
    {
     "name": "stdout",
     "output_type": "stream",
     "text": [
      "2.352934267515801\n"
     ]
    }
   ],
   "source": [
    "import numpy as np\n",
    "k=5\n",
    "actual_set = set([3, 4])\n",
    "idcg = sum([1.0 / np.log(i + 2) for i in range(min(k, len(actual_set)))])\n",
    "print(idcg)\n",
    "# for i, r in enumerate(np.log(i+2)"
   ]
  },
  {
   "cell_type": "code",
   "execution_count": null,
   "metadata": {},
   "outputs": [],
   "source": [
    "dcg = 0.0\n",
    "def unique(sequence):\n",
    "    # preserves order\n",
    "    seen = set()\n",
    "    return [x for x in sequence if not (x in seen or seen.add(x))]\n",
    "\n",
    "predicted = [3, 4]"
   ]
  },
  {
   "cell_type": "code",
   "execution_count": null,
   "metadata": {},
   "outputs": [],
   "source": [
    "seen = set()"
   ]
  },
  {
   "cell_type": "code",
   "execution_count": null,
   "metadata": {},
   "outputs": [
    {
     "data": {
      "text/plain": [
       "[3, 4]"
      ]
     },
     "execution_count": 49,
     "metadata": {},
     "output_type": "execute_result"
    }
   ],
   "source": [
    "[x for x in predicted if not (x in seen or seen.add(x))]\n"
   ]
  },
  {
   "cell_type": "code",
   "execution_count": null,
   "metadata": {},
   "outputs": [],
   "source": [
    "k = 5\n",
    "actual_set = set([3, 4])\n",
    "pred = [6, 3, 8, 4, 5]"
   ]
  },
  {
   "cell_type": "code",
   "execution_count": null,
   "metadata": {},
   "outputs": [
    {
     "name": "stdout",
     "output_type": "stream",
     "text": [
      "idcg : 1.6309\n"
     ]
    }
   ],
   "source": [
    "# idcg\n",
    "cal_num = min(k, len(actual_set))\n",
    "idcg = sum([1.0 / np.log2(i + 1) for i in range(1, cal_num+1)])\n",
    "print(f\"idcg : {idcg:.4f}\")"
   ]
  },
  {
   "cell_type": "code",
   "execution_count": null,
   "metadata": {},
   "outputs": [
    {
     "name": "stdout",
     "output_type": "stream",
     "text": [
      "dcg : 1.0616\n"
     ]
    }
   ],
   "source": [
    "# dcg\n",
    "dcg = 0\n",
    "for i, item in enumerate(pred, start=1):\n",
    "    if item in actual_set:\n",
    "        dcg += 1.0 / np.log2(i + 1)\n",
    "\n",
    "print(f\"dcg : {dcg:.4f}\")"
   ]
  },
  {
   "cell_type": "code",
   "execution_count": null,
   "metadata": {},
   "outputs": [
    {
     "name": "stdout",
     "output_type": "stream",
     "text": [
      "idcg : 1.6309, dcg : 1.0616, ndcg : 0.6509\n"
     ]
    }
   ],
   "source": [
    "# ndcg\n",
    "ndcg_k = dcg / idcg\n",
    "print(f\"idcg : {idcg:.4f}, dcg : {dcg:.4f}, ndcg : {ndcg_k:.4f}\")"
   ]
  },
  {
   "cell_type": "code",
   "execution_count": 150,
   "metadata": {},
   "outputs": [
    {
     "data": {
      "text/plain": [
       "Text(0.5, 1.0, \"histogram of nn.Parameter(torch.Tensor(100, 32))'s weights. (# : 3200)\")"
      ]
     },
     "execution_count": 150,
     "metadata": {},
     "output_type": "execute_result"
    },
    {
     "data": {
      "image/png": "[encoded data removed]",
      "text/plain": [
       "<Figure size 640x480 with 1 Axes>"
      ]
     },
     "metadata": {},
     "output_type": "display_data"
    }
   ],
   "source": [
    "parameter = torch.nn.Parameter(torch.Tensor(100, 32))\n",
    "import matplotlib.pyplot as plt\n",
    "plt.hist(parameter.detach().numpy().reshape(-1))\n",
    "plt.xlim(-0.5, 0.5)\n",
    "plt.title(\"histogram of nn.Parameter(torch.Tensor(100, 32))'s weights. (# : 3200)\")"
   ]
  },
  {
   "cell_type": "code",
   "execution_count": 136,
   "metadata": {},
   "outputs": [
    {
     "data": {
      "text/plain": [
       "Text(0.5, 1.0, \"histogram of nn.Linear(100, 32)'s weight (# : 3200)\")"
      ]
     },
     "execution_count": 136,
     "metadata": {},
     "output_type": "execute_result"
    },
    {
     "data": {
      "image/png": "[encoded data removed]",
      "text/plain": [
       "<Figure size 640x480 with 1 Axes>"
      ]
     },
     "metadata": {},
     "output_type": "display_data"
    }
   ],
   "source": [
    "linear = torch.nn.Linear(100, 32)\n",
    "import matplotlib.pyplot as plt\n",
    "plt.hist(linear.weight.detach().numpy().reshape(-1))\n",
    "plt.xlim(-0.5, 0.5)\n",
    "# plt.ylim(0, 3500)\n",
    "plt.title(\"histogram of nn.Linear(100, 32)'s weight (# : 3200)\")"
   ]
  },
  {
   "cell_type": "code",
   "execution_count": 152,
   "metadata": {},
   "outputs": [
    {
     "data": {
      "text/plain": [
       "Text(0.5, 1.0, \"histogram of nn.Embedding(100, 32)'s weight (# : 3200)\")"
      ]
     },
     "execution_count": 152,
     "metadata": {},
     "output_type": "execute_result"
    },
    {
     "data": {
      "image/png": "[encoded data removed]",
      "text/plain": [
       "<Figure size 640x480 with 1 Axes>"
      ]
     },
     "metadata": {},
     "output_type": "display_data"
    }
   ],
   "source": [
    "embedding = torch.nn.Embedding(100, 32)\n",
    "import matplotlib.pyplot as plt\n",
    "plt.hist(embedding.weight.detach().numpy().reshape(-1))\n",
    "# plt.xlim(-0.5, 0.5)\n",
    "# plt.ylim(0, 3500)\n",
    "plt.title(\"histogram of nn.Embedding(100, 32)'s weight (# : 3200)\")"
   ]
  },
  {
   "cell_type": "code",
   "execution_count": null,
   "metadata": {},
   "outputs": [],
   "source": []
  }
 ],
 "metadata": {
  "kernelspec": {
   "display_name": "Python 3.9.10 ('x86-3.9.10')",
   "language": "python",
   "name": "python3"
  },
  "language_info": {
   "codemirror_mode": {
    "name": "ipython",
    "version": 3
   },
   "file_extension": ".py",
   "mimetype": "text/x-python",
   "name": "python",
   "nbconvert_exporter": "python",
   "pygments_lexer": "ipython3",
   "version": "3.9.10"
  },
  "orig_nbformat": 4,
  "vscode": {
   "interpreter": {
    "hash": "dfecdadce9e18cfa7ada375b99f6373f96a34496e56d1aa32a316b78b5ef638a"
   }
  }
 },
 "nbformat": 4,
 "nbformat_minor": 2
}
