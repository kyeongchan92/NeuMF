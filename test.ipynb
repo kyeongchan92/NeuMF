{
 "cells": [
  {
   "cell_type": "code",
   "execution_count": 43,
   "metadata": {},
   "outputs": [],
   "source": [
    "import torch"
   ]
  },
  {
   "cell_type": "code",
   "execution_count": 16,
   "metadata": {},
   "outputs": [],
   "source": [
    "ratings_path = 'data/ml-1m/ratings.dat'\n"
   ]
  },
  {
   "cell_type": "code",
   "execution_count": 59,
   "metadata": {},
   "outputs": [
    {
     "data": {
      "text/html": [
       "<div>\n",
       "<style scoped>\n",
       "    .dataframe tbody tr th:only-of-type {\n",
       "        vertical-align: middle;\n",
       "    }\n",
       "\n",
       "    .dataframe tbody tr th {\n",
       "        vertical-align: top;\n",
       "    }\n",
       "\n",
       "    .dataframe thead th {\n",
       "        text-align: right;\n",
       "    }\n",
       "</style>\n",
       "<table border=\"1\" class=\"dataframe\">\n",
       "  <thead>\n",
       "    <tr style=\"text-align: right;\">\n",
       "      <th></th>\n",
       "      <th>user</th>\n",
       "      <th>item</th>\n",
       "      <th>rating</th>\n",
       "      <th>timestamp</th>\n",
       "    </tr>\n",
       "  </thead>\n",
       "  <tbody>\n",
       "    <tr>\n",
       "      <th>0</th>\n",
       "      <td>1</td>\n",
       "      <td>1193</td>\n",
       "      <td>5</td>\n",
       "      <td>978300760</td>\n",
       "    </tr>\n",
       "    <tr>\n",
       "      <th>1</th>\n",
       "      <td>1</td>\n",
       "      <td>661</td>\n",
       "      <td>3</td>\n",
       "      <td>978302109</td>\n",
       "    </tr>\n",
       "    <tr>\n",
       "      <th>2</th>\n",
       "      <td>1</td>\n",
       "      <td>914</td>\n",
       "      <td>3</td>\n",
       "      <td>978301968</td>\n",
       "    </tr>\n",
       "    <tr>\n",
       "      <th>3</th>\n",
       "      <td>1</td>\n",
       "      <td>3408</td>\n",
       "      <td>4</td>\n",
       "      <td>978300275</td>\n",
       "    </tr>\n",
       "    <tr>\n",
       "      <th>4</th>\n",
       "      <td>1</td>\n",
       "      <td>2355</td>\n",
       "      <td>5</td>\n",
       "      <td>978824291</td>\n",
       "    </tr>\n",
       "    <tr>\n",
       "      <th>...</th>\n",
       "      <td>...</td>\n",
       "      <td>...</td>\n",
       "      <td>...</td>\n",
       "      <td>...</td>\n",
       "    </tr>\n",
       "    <tr>\n",
       "      <th>1000204</th>\n",
       "      <td>6040</td>\n",
       "      <td>1091</td>\n",
       "      <td>1</td>\n",
       "      <td>956716541</td>\n",
       "    </tr>\n",
       "    <tr>\n",
       "      <th>1000205</th>\n",
       "      <td>6040</td>\n",
       "      <td>1094</td>\n",
       "      <td>5</td>\n",
       "      <td>956704887</td>\n",
       "    </tr>\n",
       "    <tr>\n",
       "      <th>1000206</th>\n",
       "      <td>6040</td>\n",
       "      <td>562</td>\n",
       "      <td>5</td>\n",
       "      <td>956704746</td>\n",
       "    </tr>\n",
       "    <tr>\n",
       "      <th>1000207</th>\n",
       "      <td>6040</td>\n",
       "      <td>1096</td>\n",
       "      <td>4</td>\n",
       "      <td>956715648</td>\n",
       "    </tr>\n",
       "    <tr>\n",
       "      <th>1000208</th>\n",
       "      <td>6040</td>\n",
       "      <td>1097</td>\n",
       "      <td>4</td>\n",
       "      <td>956715569</td>\n",
       "    </tr>\n",
       "  </tbody>\n",
       "</table>\n",
       "<p>1000209 rows × 4 columns</p>\n",
       "</div>"
      ],
      "text/plain": [
       "         user  item  rating  timestamp\n",
       "0           1  1193       5  978300760\n",
       "1           1   661       3  978302109\n",
       "2           1   914       3  978301968\n",
       "3           1  3408       4  978300275\n",
       "4           1  2355       5  978824291\n",
       "...       ...   ...     ...        ...\n",
       "1000204  6040  1091       1  956716541\n",
       "1000205  6040  1094       5  956704887\n",
       "1000206  6040   562       5  956704746\n",
       "1000207  6040  1096       4  956715648\n",
       "1000208  6040  1097       4  956715569\n",
       "\n",
       "[1000209 rows x 4 columns]"
      ]
     },
     "execution_count": 59,
     "metadata": {},
     "output_type": "execute_result"
    }
   ],
   "source": [
    "import pandas as pd\n",
    "ratings = pd.read_csv(ratings_path, names=['user', 'item', 'rating', 'timestamp'], sep='::', engine='python')\n",
    "ratings"
   ]
  },
  {
   "cell_type": "code",
   "execution_count": 30,
   "metadata": {},
   "outputs": [],
   "source": [
    "uidx_map = {user:i for i, user in enumerate(set(ratings['user']))}\n",
    "iidx_map = {item:i for i, item in enumerate(set(ratings['item']))}\n",
    "ratings['uidx'] = ratings['user'].map(uidx_map)\n",
    "ratings['iidx'] = ratings['item'].map(iidx_map)"
   ]
  },
  {
   "cell_type": "code",
   "execution_count": 31,
   "metadata": {},
   "outputs": [],
   "source": [
    "n_user = ratings['uidx'].nunique()\n",
    "n_item = ratings['iidx'].nunique()"
   ]
  },
  {
   "cell_type": "code",
   "execution_count": 33,
   "metadata": {},
   "outputs": [],
   "source": [
    "import torch.nn as nn"
   ]
  },
  {
   "cell_type": "code",
   "execution_count": null,
   "metadata": {},
   "outputs": [],
   "source": [
    "emb_dim = 64\n"
   ]
  },
  {
   "cell_type": "code",
   "execution_count": 56,
   "metadata": {},
   "outputs": [],
   "source": [
    "class NeuMF(nn.Module):\n",
    "    def __init__(self, n_user, n_item, emb_dim):\n",
    "        super().__init__()\n",
    "        # GMF\n",
    "        self.GMF_user = nn.Embedding(n_user, emb_dim)\n",
    "        self.GMF_item = nn.Embedding(n_item, emb_dim)\n",
    "\n",
    "        # MLP\n",
    "        self.MLP_user = nn.Embedding(n_user, emb_dim)\n",
    "        self.MLP_item = nn.Embedding(n_item, emb_dim)\n",
    "        self.MLP_linear = nn.Sequential(\n",
    "            nn.Linear(emb_dim*2, emb_dim//2),\n",
    "            nn.ReLU(),\n",
    "            nn.Linear(emb_dim//2, emb_dim//(2*2)),\n",
    "            nn.ReLU(),\n",
    "            nn.Linear(emb_dim//(2*2), emb_dim//(2*2*2)),\n",
    "        )\n",
    "\n",
    "        # output layer\n",
    "        self.output_layer = nn.Linear(emb_dim + (emb_dim//(2*2*2)), 1)\n",
    "\n",
    "    def forward(self, user, item):\n",
    "        # GMF\n",
    "        phi_gmf = torch.mul(self.GMF_user(user), self.GMF_item(item))\n",
    "\n",
    "        # MLP\n",
    "        concat = torch.cat([self.MLP_user(user), self.MLP_item(item)], dim=1)\n",
    "        phi_mlp = self.MLP_linear(concat)\n",
    "        \n",
    "        # output layer\n",
    "        output = self.output_layer(torch.cat([phi_gmf, phi_mlp], dim=1))\n",
    "        logit = torch.sigmoid(output)\n",
    "\n",
    "        return logit\n",
    "\n",
    "\n"
   ]
  },
  {
   "cell_type": "code",
   "execution_count": 57,
   "metadata": {},
   "outputs": [],
   "source": [
    "model = NeuMF(n_user, n_item, emb_dim)"
   ]
  },
  {
   "cell_type": "code",
   "execution_count": 58,
   "metadata": {},
   "outputs": [
    {
     "data": {
      "text/plain": [
       "tensor([[0.4236]], grad_fn=<SigmoidBackward0>)"
      ]
     },
     "execution_count": 58,
     "metadata": {},
     "output_type": "execute_result"
    }
   ],
   "source": [
    "model(torch.tensor([3]), torch.tensor([4]))"
   ]
  },
  {
   "cell_type": "code",
   "execution_count": null,
   "metadata": {},
   "outputs": [],
   "source": []
  }
 ],
 "metadata": {
  "kernelspec": {
   "display_name": "Python 3.9.10 ('x86-3.9.10')",
   "language": "python",
   "name": "python3"
  },
  "language_info": {
   "codemirror_mode": {
    "name": "ipython",
    "version": 3
   },
   "file_extension": ".py",
   "mimetype": "text/x-python",
   "name": "python",
   "nbconvert_exporter": "python",
   "pygments_lexer": "ipython3",
   "version": "3.9.10"
  },
  "orig_nbformat": 4,
  "vscode": {
   "interpreter": {
    "hash": "dfecdadce9e18cfa7ada375b99f6373f96a34496e56d1aa32a316b78b5ef638a"
   }
  }
 },
 "nbformat": 4,
 "nbformat_minor": 2
}
